{
 "cells": [
  {
   "cell_type": "code",
   "execution_count": 2,
   "metadata": {},
   "outputs": [],
   "source": [
    "import pandas as pd\n",
    "from sklearn.utils import shuffle"
   ]
  },
  {
   "cell_type": "markdown",
   "metadata": {},
   "source": [
    "### Loading and concatenating all datasets "
   ]
  },
  {
   "cell_type": "code",
   "execution_count": 3,
   "metadata": {},
   "outputs": [],
   "source": [
    "business_df = pd.read_csv('..\\\\data\\\\business_data.csv')\n",
    "education_df = pd.read_csv('..\\\\data\\\\education_data.csv')\n",
    "entertainment_df = pd.read_csv('..\\\\data\\\\entertainment_data.csv')\n",
    "sports_df = pd.read_csv('..\\\\data\\\\sports_data.csv')\n",
    "technology_df = pd.read_csv('..\\\\data\\\\technology_data.csv')"
   ]
  },
  {
   "cell_type": "code",
   "execution_count": 4,
   "metadata": {},
   "outputs": [],
   "source": [
    "dfs = [business_df, education_df, entertainment_df, sports_df, technology_df]\n",
    "df = pd.concat(dfs)"
   ]
  },
  {
   "cell_type": "code",
   "execution_count": 5,
   "metadata": {},
   "outputs": [
    {
     "data": {
      "text/plain": [
       "array(['business', 'education', 'entertainment', 'sports', 'technology'],\n",
       "      dtype=object)"
      ]
     },
     "execution_count": 5,
     "metadata": {},
     "output_type": "execute_result"
    }
   ],
   "source": [
    "df['category'].unique()"
   ]
  },
  {
   "cell_type": "code",
   "execution_count": 6,
   "metadata": {},
   "outputs": [],
   "source": [
    "df = shuffle(df)"
   ]
  },
  {
   "cell_type": "code",
   "execution_count": 7,
   "metadata": {},
   "outputs": [],
   "source": [
    "df.reset_index(inplace=True)"
   ]
  },
  {
   "cell_type": "code",
   "execution_count": 8,
   "metadata": {},
   "outputs": [
    {
     "data": {
      "text/html": [
       "<div>\n",
       "<style scoped>\n",
       "    .dataframe tbody tr th:only-of-type {\n",
       "        vertical-align: middle;\n",
       "    }\n",
       "\n",
       "    .dataframe tbody tr th {\n",
       "        vertical-align: top;\n",
       "    }\n",
       "\n",
       "    .dataframe thead th {\n",
       "        text-align: right;\n",
       "    }\n",
       "</style>\n",
       "<table border=\"1\" class=\"dataframe\">\n",
       "  <thead>\n",
       "    <tr style=\"text-align: right;\">\n",
       "      <th></th>\n",
       "      <th>index</th>\n",
       "      <th>headlines</th>\n",
       "      <th>description</th>\n",
       "      <th>content</th>\n",
       "      <th>url</th>\n",
       "      <th>category</th>\n",
       "    </tr>\n",
       "  </thead>\n",
       "  <tbody>\n",
       "    <tr>\n",
       "      <th>0</th>\n",
       "      <td>688</td>\n",
       "      <td>Following Abhinav Bindra’s footsteps, Rudrankk...</td>\n",
       "      <td>Despite high fever, which made his body shiver...</td>\n",
       "      <td>Rudrankksh Patil took two trips to Germany see...</td>\n",
       "      <td>https://indianexpress.com/article/sports/follo...</td>\n",
       "      <td>sports</td>\n",
       "    </tr>\n",
       "    <tr>\n",
       "      <th>1</th>\n",
       "      <td>381</td>\n",
       "      <td>‘What a finish’: Congratulatory messages pour ...</td>\n",
       "      <td>Then in the last, dramatic moment, Anderson wa...</td>\n",
       "      <td>New Zealand completed a dramatic fightback on ...</td>\n",
       "      <td>https://indianexpress.com/article/sports/crick...</td>\n",
       "      <td>sports</td>\n",
       "    </tr>\n",
       "    <tr>\n",
       "      <th>2</th>\n",
       "      <td>1992</td>\n",
       "      <td>Microsoft Paint gets Cocreator, a DALL-E power...</td>\n",
       "      <td>The new 'Paint Cocreator' uses DALL-E to gener...</td>\n",
       "      <td>Microsoft’s Paint app on Windows 11 has been g...</td>\n",
       "      <td>https://indianexpress.com/article/technology/t...</td>\n",
       "      <td>technology</td>\n",
       "    </tr>\n",
       "    <tr>\n",
       "      <th>3</th>\n",
       "      <td>865</td>\n",
       "      <td>Riot Games announces its first-ever Valorant e...</td>\n",
       "      <td>Top Valorant teams from around the world are c...</td>\n",
       "      <td>American video game developer Riot Games has a...</td>\n",
       "      <td>https://indianexpress.com/article/technology/g...</td>\n",
       "      <td>technology</td>\n",
       "    </tr>\n",
       "    <tr>\n",
       "      <th>4</th>\n",
       "      <td>981</td>\n",
       "      <td>Prithviraj Sukumaran on what worked for Jawan,...</td>\n",
       "      <td>Prithviraj Sukumaran shared insights into his ...</td>\n",
       "      <td>Prithviraj Sukumaran is currently busy with th...</td>\n",
       "      <td>https://indianexpress.com/article/entertainmen...</td>\n",
       "      <td>entertainment</td>\n",
       "    </tr>\n",
       "  </tbody>\n",
       "</table>\n",
       "</div>"
      ],
      "text/plain": [
       "   index                                          headlines  \\\n",
       "0    688  Following Abhinav Bindra’s footsteps, Rudrankk...   \n",
       "1    381  ‘What a finish’: Congratulatory messages pour ...   \n",
       "2   1992  Microsoft Paint gets Cocreator, a DALL-E power...   \n",
       "3    865  Riot Games announces its first-ever Valorant e...   \n",
       "4    981  Prithviraj Sukumaran on what worked for Jawan,...   \n",
       "\n",
       "                                         description  \\\n",
       "0  Despite high fever, which made his body shiver...   \n",
       "1  Then in the last, dramatic moment, Anderson wa...   \n",
       "2  The new 'Paint Cocreator' uses DALL-E to gener...   \n",
       "3  Top Valorant teams from around the world are c...   \n",
       "4  Prithviraj Sukumaran shared insights into his ...   \n",
       "\n",
       "                                             content  \\\n",
       "0  Rudrankksh Patil took two trips to Germany see...   \n",
       "1  New Zealand completed a dramatic fightback on ...   \n",
       "2  Microsoft’s Paint app on Windows 11 has been g...   \n",
       "3  American video game developer Riot Games has a...   \n",
       "4  Prithviraj Sukumaran is currently busy with th...   \n",
       "\n",
       "                                                 url       category  \n",
       "0  https://indianexpress.com/article/sports/follo...         sports  \n",
       "1  https://indianexpress.com/article/sports/crick...         sports  \n",
       "2  https://indianexpress.com/article/technology/t...     technology  \n",
       "3  https://indianexpress.com/article/technology/g...     technology  \n",
       "4  https://indianexpress.com/article/entertainmen...  entertainment  "
      ]
     },
     "execution_count": 8,
     "metadata": {},
     "output_type": "execute_result"
    }
   ],
   "source": [
    "df.head()"
   ]
  },
  {
   "cell_type": "code",
   "execution_count": 9,
   "metadata": {},
   "outputs": [
    {
     "data": {
      "text/plain": [
       "(10000, 6)"
      ]
     },
     "execution_count": 9,
     "metadata": {},
     "output_type": "execute_result"
    }
   ],
   "source": [
    "df.shape"
   ]
  },
  {
   "cell_type": "markdown",
   "metadata": {},
   "source": [
    "### Droping unnecessery columns"
   ]
  },
  {
   "cell_type": "code",
   "execution_count": 10,
   "metadata": {},
   "outputs": [],
   "source": [
    "df.drop(columns=['index', 'url'], inplace=True)"
   ]
  },
  {
   "cell_type": "code",
   "execution_count": 11,
   "metadata": {},
   "outputs": [
    {
     "data": {
      "text/html": [
       "<div>\n",
       "<style scoped>\n",
       "    .dataframe tbody tr th:only-of-type {\n",
       "        vertical-align: middle;\n",
       "    }\n",
       "\n",
       "    .dataframe tbody tr th {\n",
       "        vertical-align: top;\n",
       "    }\n",
       "\n",
       "    .dataframe thead th {\n",
       "        text-align: right;\n",
       "    }\n",
       "</style>\n",
       "<table border=\"1\" class=\"dataframe\">\n",
       "  <thead>\n",
       "    <tr style=\"text-align: right;\">\n",
       "      <th></th>\n",
       "      <th>headlines</th>\n",
       "      <th>description</th>\n",
       "      <th>content</th>\n",
       "      <th>category</th>\n",
       "    </tr>\n",
       "  </thead>\n",
       "  <tbody>\n",
       "    <tr>\n",
       "      <th>0</th>\n",
       "      <td>Following Abhinav Bindra’s footsteps, Rudrankk...</td>\n",
       "      <td>Despite high fever, which made his body shiver...</td>\n",
       "      <td>Rudrankksh Patil took two trips to Germany see...</td>\n",
       "      <td>sports</td>\n",
       "    </tr>\n",
       "    <tr>\n",
       "      <th>1</th>\n",
       "      <td>‘What a finish’: Congratulatory messages pour ...</td>\n",
       "      <td>Then in the last, dramatic moment, Anderson wa...</td>\n",
       "      <td>New Zealand completed a dramatic fightback on ...</td>\n",
       "      <td>sports</td>\n",
       "    </tr>\n",
       "    <tr>\n",
       "      <th>2</th>\n",
       "      <td>Microsoft Paint gets Cocreator, a DALL-E power...</td>\n",
       "      <td>The new 'Paint Cocreator' uses DALL-E to gener...</td>\n",
       "      <td>Microsoft’s Paint app on Windows 11 has been g...</td>\n",
       "      <td>technology</td>\n",
       "    </tr>\n",
       "    <tr>\n",
       "      <th>3</th>\n",
       "      <td>Riot Games announces its first-ever Valorant e...</td>\n",
       "      <td>Top Valorant teams from around the world are c...</td>\n",
       "      <td>American video game developer Riot Games has a...</td>\n",
       "      <td>technology</td>\n",
       "    </tr>\n",
       "    <tr>\n",
       "      <th>4</th>\n",
       "      <td>Prithviraj Sukumaran on what worked for Jawan,...</td>\n",
       "      <td>Prithviraj Sukumaran shared insights into his ...</td>\n",
       "      <td>Prithviraj Sukumaran is currently busy with th...</td>\n",
       "      <td>entertainment</td>\n",
       "    </tr>\n",
       "    <tr>\n",
       "      <th>5</th>\n",
       "      <td>When Naga Chaitanya told dad Nagarjuna about h...</td>\n",
       "      <td>Naga Chaitanya's acting ambitions started with...</td>\n",
       "      <td>Telugu actor Naga Chaitanya comes from a talen...</td>\n",
       "      <td>entertainment</td>\n",
       "    </tr>\n",
       "    <tr>\n",
       "      <th>6</th>\n",
       "      <td>IND vs AUS: Mike Hussey wants Australian batsm...</td>\n",
       "      <td>Australian batters have been heavily criticize...</td>\n",
       "      <td>Former Australian batsman Mike Hussey urged th...</td>\n",
       "      <td>sports</td>\n",
       "    </tr>\n",
       "    <tr>\n",
       "      <th>7</th>\n",
       "      <td>YouTube testing ChatGPT-like AI powered chatbo...</td>\n",
       "      <td>YouTube is testing new generative AI powered f...</td>\n",
       "      <td>YouTube is testing new generative AI features ...</td>\n",
       "      <td>technology</td>\n",
       "    </tr>\n",
       "    <tr>\n",
       "      <th>8</th>\n",
       "      <td>Reliance’s share price scales fresh 52-week hi...</td>\n",
       "      <td>\"Tata Group's multi-billion-pound investment i...</td>\n",
       "      <td>Tata Sons will build a 40GW battery cell gigaf...</td>\n",
       "      <td>business</td>\n",
       "    </tr>\n",
       "    <tr>\n",
       "      <th>9</th>\n",
       "      <td>RBI to bring digital loan aggregators under re...</td>\n",
       "      <td>Digital lenders have been accused of charging ...</td>\n",
       "      <td>The Reserve Bank of India (RBI) has decided to...</td>\n",
       "      <td>business</td>\n",
       "    </tr>\n",
       "  </tbody>\n",
       "</table>\n",
       "</div>"
      ],
      "text/plain": [
       "                                           headlines  \\\n",
       "0  Following Abhinav Bindra’s footsteps, Rudrankk...   \n",
       "1  ‘What a finish’: Congratulatory messages pour ...   \n",
       "2  Microsoft Paint gets Cocreator, a DALL-E power...   \n",
       "3  Riot Games announces its first-ever Valorant e...   \n",
       "4  Prithviraj Sukumaran on what worked for Jawan,...   \n",
       "5  When Naga Chaitanya told dad Nagarjuna about h...   \n",
       "6  IND vs AUS: Mike Hussey wants Australian batsm...   \n",
       "7  YouTube testing ChatGPT-like AI powered chatbo...   \n",
       "8  Reliance’s share price scales fresh 52-week hi...   \n",
       "9  RBI to bring digital loan aggregators under re...   \n",
       "\n",
       "                                         description  \\\n",
       "0  Despite high fever, which made his body shiver...   \n",
       "1  Then in the last, dramatic moment, Anderson wa...   \n",
       "2  The new 'Paint Cocreator' uses DALL-E to gener...   \n",
       "3  Top Valorant teams from around the world are c...   \n",
       "4  Prithviraj Sukumaran shared insights into his ...   \n",
       "5  Naga Chaitanya's acting ambitions started with...   \n",
       "6  Australian batters have been heavily criticize...   \n",
       "7  YouTube is testing new generative AI powered f...   \n",
       "8  \"Tata Group's multi-billion-pound investment i...   \n",
       "9  Digital lenders have been accused of charging ...   \n",
       "\n",
       "                                             content       category  \n",
       "0  Rudrankksh Patil took two trips to Germany see...         sports  \n",
       "1  New Zealand completed a dramatic fightback on ...         sports  \n",
       "2  Microsoft’s Paint app on Windows 11 has been g...     technology  \n",
       "3  American video game developer Riot Games has a...     technology  \n",
       "4  Prithviraj Sukumaran is currently busy with th...  entertainment  \n",
       "5  Telugu actor Naga Chaitanya comes from a talen...  entertainment  \n",
       "6  Former Australian batsman Mike Hussey urged th...         sports  \n",
       "7  YouTube is testing new generative AI features ...     technology  \n",
       "8  Tata Sons will build a 40GW battery cell gigaf...       business  \n",
       "9  The Reserve Bank of India (RBI) has decided to...       business  "
      ]
     },
     "execution_count": 11,
     "metadata": {},
     "output_type": "execute_result"
    }
   ],
   "source": [
    "df.head(10)"
   ]
  },
  {
   "cell_type": "markdown",
   "metadata": {},
   "source": [
    "### Maping categoires to numbers and creating new column with category number"
   ]
  },
  {
   "cell_type": "code",
   "execution_count": 12,
   "metadata": {},
   "outputs": [],
   "source": [
    "def map_category(category):\n",
    "    category_map = {\n",
    "        'business': 0,\n",
    "        'education': 1,\n",
    "        'entertainment': 2,\n",
    "        'sports': 3,\n",
    "        'technology': 4\n",
    "    }\n",
    "    return category_map.get(category)"
   ]
  },
  {
   "cell_type": "code",
   "execution_count": 13,
   "metadata": {},
   "outputs": [
    {
     "data": {
      "text/plain": [
       "0"
      ]
     },
     "execution_count": 13,
     "metadata": {},
     "output_type": "execute_result"
    }
   ],
   "source": [
    "map_category('business')"
   ]
  },
  {
   "cell_type": "code",
   "execution_count": 14,
   "metadata": {},
   "outputs": [],
   "source": [
    "df['news_category'] = df['category'].apply(map_category)"
   ]
  },
  {
   "cell_type": "code",
   "execution_count": 15,
   "metadata": {},
   "outputs": [],
   "source": [
    "df.drop(columns=['category'], inplace=True)"
   ]
  },
  {
   "cell_type": "code",
   "execution_count": 16,
   "metadata": {},
   "outputs": [
    {
     "data": {
      "text/html": [
       "<div>\n",
       "<style scoped>\n",
       "    .dataframe tbody tr th:only-of-type {\n",
       "        vertical-align: middle;\n",
       "    }\n",
       "\n",
       "    .dataframe tbody tr th {\n",
       "        vertical-align: top;\n",
       "    }\n",
       "\n",
       "    .dataframe thead th {\n",
       "        text-align: right;\n",
       "    }\n",
       "</style>\n",
       "<table border=\"1\" class=\"dataframe\">\n",
       "  <thead>\n",
       "    <tr style=\"text-align: right;\">\n",
       "      <th></th>\n",
       "      <th>headlines</th>\n",
       "      <th>description</th>\n",
       "      <th>content</th>\n",
       "      <th>news_category</th>\n",
       "    </tr>\n",
       "  </thead>\n",
       "  <tbody>\n",
       "    <tr>\n",
       "      <th>0</th>\n",
       "      <td>Following Abhinav Bindra’s footsteps, Rudrankk...</td>\n",
       "      <td>Despite high fever, which made his body shiver...</td>\n",
       "      <td>Rudrankksh Patil took two trips to Germany see...</td>\n",
       "      <td>3</td>\n",
       "    </tr>\n",
       "    <tr>\n",
       "      <th>1</th>\n",
       "      <td>‘What a finish’: Congratulatory messages pour ...</td>\n",
       "      <td>Then in the last, dramatic moment, Anderson wa...</td>\n",
       "      <td>New Zealand completed a dramatic fightback on ...</td>\n",
       "      <td>3</td>\n",
       "    </tr>\n",
       "    <tr>\n",
       "      <th>2</th>\n",
       "      <td>Microsoft Paint gets Cocreator, a DALL-E power...</td>\n",
       "      <td>The new 'Paint Cocreator' uses DALL-E to gener...</td>\n",
       "      <td>Microsoft’s Paint app on Windows 11 has been g...</td>\n",
       "      <td>4</td>\n",
       "    </tr>\n",
       "    <tr>\n",
       "      <th>3</th>\n",
       "      <td>Riot Games announces its first-ever Valorant e...</td>\n",
       "      <td>Top Valorant teams from around the world are c...</td>\n",
       "      <td>American video game developer Riot Games has a...</td>\n",
       "      <td>4</td>\n",
       "    </tr>\n",
       "    <tr>\n",
       "      <th>4</th>\n",
       "      <td>Prithviraj Sukumaran on what worked for Jawan,...</td>\n",
       "      <td>Prithviraj Sukumaran shared insights into his ...</td>\n",
       "      <td>Prithviraj Sukumaran is currently busy with th...</td>\n",
       "      <td>2</td>\n",
       "    </tr>\n",
       "    <tr>\n",
       "      <th>5</th>\n",
       "      <td>When Naga Chaitanya told dad Nagarjuna about h...</td>\n",
       "      <td>Naga Chaitanya's acting ambitions started with...</td>\n",
       "      <td>Telugu actor Naga Chaitanya comes from a talen...</td>\n",
       "      <td>2</td>\n",
       "    </tr>\n",
       "    <tr>\n",
       "      <th>6</th>\n",
       "      <td>IND vs AUS: Mike Hussey wants Australian batsm...</td>\n",
       "      <td>Australian batters have been heavily criticize...</td>\n",
       "      <td>Former Australian batsman Mike Hussey urged th...</td>\n",
       "      <td>3</td>\n",
       "    </tr>\n",
       "    <tr>\n",
       "      <th>7</th>\n",
       "      <td>YouTube testing ChatGPT-like AI powered chatbo...</td>\n",
       "      <td>YouTube is testing new generative AI powered f...</td>\n",
       "      <td>YouTube is testing new generative AI features ...</td>\n",
       "      <td>4</td>\n",
       "    </tr>\n",
       "    <tr>\n",
       "      <th>8</th>\n",
       "      <td>Reliance’s share price scales fresh 52-week hi...</td>\n",
       "      <td>\"Tata Group's multi-billion-pound investment i...</td>\n",
       "      <td>Tata Sons will build a 40GW battery cell gigaf...</td>\n",
       "      <td>0</td>\n",
       "    </tr>\n",
       "    <tr>\n",
       "      <th>9</th>\n",
       "      <td>RBI to bring digital loan aggregators under re...</td>\n",
       "      <td>Digital lenders have been accused of charging ...</td>\n",
       "      <td>The Reserve Bank of India (RBI) has decided to...</td>\n",
       "      <td>0</td>\n",
       "    </tr>\n",
       "  </tbody>\n",
       "</table>\n",
       "</div>"
      ],
      "text/plain": [
       "                                           headlines  \\\n",
       "0  Following Abhinav Bindra’s footsteps, Rudrankk...   \n",
       "1  ‘What a finish’: Congratulatory messages pour ...   \n",
       "2  Microsoft Paint gets Cocreator, a DALL-E power...   \n",
       "3  Riot Games announces its first-ever Valorant e...   \n",
       "4  Prithviraj Sukumaran on what worked for Jawan,...   \n",
       "5  When Naga Chaitanya told dad Nagarjuna about h...   \n",
       "6  IND vs AUS: Mike Hussey wants Australian batsm...   \n",
       "7  YouTube testing ChatGPT-like AI powered chatbo...   \n",
       "8  Reliance’s share price scales fresh 52-week hi...   \n",
       "9  RBI to bring digital loan aggregators under re...   \n",
       "\n",
       "                                         description  \\\n",
       "0  Despite high fever, which made his body shiver...   \n",
       "1  Then in the last, dramatic moment, Anderson wa...   \n",
       "2  The new 'Paint Cocreator' uses DALL-E to gener...   \n",
       "3  Top Valorant teams from around the world are c...   \n",
       "4  Prithviraj Sukumaran shared insights into his ...   \n",
       "5  Naga Chaitanya's acting ambitions started with...   \n",
       "6  Australian batters have been heavily criticize...   \n",
       "7  YouTube is testing new generative AI powered f...   \n",
       "8  \"Tata Group's multi-billion-pound investment i...   \n",
       "9  Digital lenders have been accused of charging ...   \n",
       "\n",
       "                                             content  news_category  \n",
       "0  Rudrankksh Patil took two trips to Germany see...              3  \n",
       "1  New Zealand completed a dramatic fightback on ...              3  \n",
       "2  Microsoft’s Paint app on Windows 11 has been g...              4  \n",
       "3  American video game developer Riot Games has a...              4  \n",
       "4  Prithviraj Sukumaran is currently busy with th...              2  \n",
       "5  Telugu actor Naga Chaitanya comes from a talen...              2  \n",
       "6  Former Australian batsman Mike Hussey urged th...              3  \n",
       "7  YouTube is testing new generative AI features ...              4  \n",
       "8  Tata Sons will build a 40GW battery cell gigaf...              0  \n",
       "9  The Reserve Bank of India (RBI) has decided to...              0  "
      ]
     },
     "execution_count": 16,
     "metadata": {},
     "output_type": "execute_result"
    }
   ],
   "source": [
    "df.head(10)"
   ]
  },
  {
   "cell_type": "markdown",
   "metadata": {},
   "source": [
    "### Creating content for training from headline, description and content"
   ]
  },
  {
   "cell_type": "code",
   "execution_count": 17,
   "metadata": {},
   "outputs": [],
   "source": [
    "df['news_content'] = df['headlines'] + \" \" + df['description'] + \" \" + df['content']\n",
    "df.drop(columns=['headlines', 'description', 'content'], inplace=True)"
   ]
  },
  {
   "cell_type": "code",
   "execution_count": 18,
   "metadata": {},
   "outputs": [
    {
     "data": {
      "text/html": [
       "<div>\n",
       "<style scoped>\n",
       "    .dataframe tbody tr th:only-of-type {\n",
       "        vertical-align: middle;\n",
       "    }\n",
       "\n",
       "    .dataframe tbody tr th {\n",
       "        vertical-align: top;\n",
       "    }\n",
       "\n",
       "    .dataframe thead th {\n",
       "        text-align: right;\n",
       "    }\n",
       "</style>\n",
       "<table border=\"1\" class=\"dataframe\">\n",
       "  <thead>\n",
       "    <tr style=\"text-align: right;\">\n",
       "      <th></th>\n",
       "      <th>news_category</th>\n",
       "      <th>news_content</th>\n",
       "    </tr>\n",
       "  </thead>\n",
       "  <tbody>\n",
       "    <tr>\n",
       "      <th>0</th>\n",
       "      <td>3</td>\n",
       "      <td>Following Abhinav Bindra’s footsteps, Rudrankk...</td>\n",
       "    </tr>\n",
       "    <tr>\n",
       "      <th>1</th>\n",
       "      <td>3</td>\n",
       "      <td>‘What a finish’: Congratulatory messages pour ...</td>\n",
       "    </tr>\n",
       "    <tr>\n",
       "      <th>2</th>\n",
       "      <td>4</td>\n",
       "      <td>Microsoft Paint gets Cocreator, a DALL-E power...</td>\n",
       "    </tr>\n",
       "    <tr>\n",
       "      <th>3</th>\n",
       "      <td>4</td>\n",
       "      <td>Riot Games announces its first-ever Valorant e...</td>\n",
       "    </tr>\n",
       "    <tr>\n",
       "      <th>4</th>\n",
       "      <td>2</td>\n",
       "      <td>Prithviraj Sukumaran on what worked for Jawan,...</td>\n",
       "    </tr>\n",
       "    <tr>\n",
       "      <th>5</th>\n",
       "      <td>2</td>\n",
       "      <td>When Naga Chaitanya told dad Nagarjuna about h...</td>\n",
       "    </tr>\n",
       "    <tr>\n",
       "      <th>6</th>\n",
       "      <td>3</td>\n",
       "      <td>IND vs AUS: Mike Hussey wants Australian batsm...</td>\n",
       "    </tr>\n",
       "    <tr>\n",
       "      <th>7</th>\n",
       "      <td>4</td>\n",
       "      <td>YouTube testing ChatGPT-like AI powered chatbo...</td>\n",
       "    </tr>\n",
       "    <tr>\n",
       "      <th>8</th>\n",
       "      <td>0</td>\n",
       "      <td>Reliance’s share price scales fresh 52-week hi...</td>\n",
       "    </tr>\n",
       "    <tr>\n",
       "      <th>9</th>\n",
       "      <td>0</td>\n",
       "      <td>RBI to bring digital loan aggregators under re...</td>\n",
       "    </tr>\n",
       "  </tbody>\n",
       "</table>\n",
       "</div>"
      ],
      "text/plain": [
       "   news_category                                       news_content\n",
       "0              3  Following Abhinav Bindra’s footsteps, Rudrankk...\n",
       "1              3  ‘What a finish’: Congratulatory messages pour ...\n",
       "2              4  Microsoft Paint gets Cocreator, a DALL-E power...\n",
       "3              4  Riot Games announces its first-ever Valorant e...\n",
       "4              2  Prithviraj Sukumaran on what worked for Jawan,...\n",
       "5              2  When Naga Chaitanya told dad Nagarjuna about h...\n",
       "6              3  IND vs AUS: Mike Hussey wants Australian batsm...\n",
       "7              4  YouTube testing ChatGPT-like AI powered chatbo...\n",
       "8              0  Reliance’s share price scales fresh 52-week hi...\n",
       "9              0  RBI to bring digital loan aggregators under re..."
      ]
     },
     "execution_count": 18,
     "metadata": {},
     "output_type": "execute_result"
    }
   ],
   "source": [
    "df.head(10)"
   ]
  },
  {
   "cell_type": "markdown",
   "metadata": {},
   "source": [
    "### Saving dataset in raw state (no cleaning and vectorization)"
   ]
  },
  {
   "cell_type": "code",
   "execution_count": 19,
   "metadata": {},
   "outputs": [],
   "source": [
    "df.to_csv(\"../data/raw_data.csv\")"
   ]
  }
 ],
 "metadata": {
  "kernelspec": {
   "display_name": "news-cls",
   "language": "python",
   "name": "python3"
  },
  "language_info": {
   "codemirror_mode": {
    "name": "ipython",
    "version": 3
   },
   "file_extension": ".py",
   "mimetype": "text/x-python",
   "name": "python",
   "nbconvert_exporter": "python",
   "pygments_lexer": "ipython3",
   "version": "3.11.9"
  }
 },
 "nbformat": 4,
 "nbformat_minor": 2
}
