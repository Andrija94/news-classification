{
 "cells": [
  {
   "cell_type": "code",
   "execution_count": 2,
   "metadata": {},
   "outputs": [],
   "source": [
    "import pandas as pd\n",
    "from sklearn.utils import shuffle"
   ]
  },
  {
   "cell_type": "markdown",
   "metadata": {},
   "source": [
    "### Loading and concatenating all datasets "
   ]
  },
  {
   "cell_type": "code",
   "execution_count": 21,
   "metadata": {},
   "outputs": [],
   "source": [
    "business_df = pd.read_csv('..\\\\data\\\\business_data.csv')\n",
    "education_df = pd.read_csv('..\\\\data\\\\education_data.csv')\n",
    "entertainment_df = pd.read_csv('..\\\\data\\\\entertainment_data.csv')\n",
    "sports_df = pd.read_csv('..\\\\data\\\\sports_data.csv')\n",
    "technology_df = pd.read_csv('..\\\\data\\\\technology_data.csv')"
   ]
  },
  {
   "cell_type": "code",
   "execution_count": 22,
   "metadata": {},
   "outputs": [],
   "source": [
    "dfs = [business_df, education_df, entertainment_df, sports_df, technology_df]\n",
    "df = pd.concat(dfs)"
   ]
  },
  {
   "cell_type": "code",
   "execution_count": 23,
   "metadata": {},
   "outputs": [
    {
     "data": {
      "text/plain": [
       "array(['business', 'education', 'entertainment', 'sports', 'technology'],\n",
       "      dtype=object)"
      ]
     },
     "execution_count": 23,
     "metadata": {},
     "output_type": "execute_result"
    }
   ],
   "source": [
    "df['category'].unique()"
   ]
  },
  {
   "cell_type": "code",
   "execution_count": 24,
   "metadata": {},
   "outputs": [],
   "source": [
    "df = shuffle(df)"
   ]
  },
  {
   "cell_type": "code",
   "execution_count": 25,
   "metadata": {},
   "outputs": [],
   "source": [
    "df.reset_index(inplace=True)"
   ]
  },
  {
   "cell_type": "code",
   "execution_count": 26,
   "metadata": {},
   "outputs": [
    {
     "data": {
      "text/html": [
       "<div>\n",
       "<style scoped>\n",
       "    .dataframe tbody tr th:only-of-type {\n",
       "        vertical-align: middle;\n",
       "    }\n",
       "\n",
       "    .dataframe tbody tr th {\n",
       "        vertical-align: top;\n",
       "    }\n",
       "\n",
       "    .dataframe thead th {\n",
       "        text-align: right;\n",
       "    }\n",
       "</style>\n",
       "<table border=\"1\" class=\"dataframe\">\n",
       "  <thead>\n",
       "    <tr style=\"text-align: right;\">\n",
       "      <th></th>\n",
       "      <th>index</th>\n",
       "      <th>headlines</th>\n",
       "      <th>description</th>\n",
       "      <th>content</th>\n",
       "      <th>url</th>\n",
       "      <th>category</th>\n",
       "    </tr>\n",
       "  </thead>\n",
       "  <tbody>\n",
       "    <tr>\n",
       "      <th>0</th>\n",
       "      <td>1751</td>\n",
       "      <td>Australian Open semifinal: Unstoppable Novak D...</td>\n",
       "      <td>The odds are stacked heavily against first-tim...</td>\n",
       "      <td>Grand Slam fever grips tennis fans all over th...</td>\n",
       "      <td>https://indianexpress.com/article/sports/tenni...</td>\n",
       "      <td>sports</td>\n",
       "    </tr>\n",
       "    <tr>\n",
       "      <th>1</th>\n",
       "      <td>673</td>\n",
       "      <td>NTA changes JEE Main 2024 website; check new p...</td>\n",
       "      <td>JEE Main 2024: The new website also has an aut...</td>\n",
       "      <td>JEE Main 2024: The National Testing Agency (NT...</td>\n",
       "      <td>https://indianexpress.com/article/education/nt...</td>\n",
       "      <td>education</td>\n",
       "    </tr>\n",
       "    <tr>\n",
       "      <th>2</th>\n",
       "      <td>193</td>\n",
       "      <td>Guntur Kaaram movie review: Mahesh Babu tries ...</td>\n",
       "      <td>Guntur Kaaram movie review: Mahesh Babu, in to...</td>\n",
       "      <td>Trivikram Srinivas’ Guntur Kaaram serves as de...</td>\n",
       "      <td>https://indianexpress.com/article/entertainmen...</td>\n",
       "      <td>entertainment</td>\n",
       "    </tr>\n",
       "    <tr>\n",
       "      <th>3</th>\n",
       "      <td>732</td>\n",
       "      <td>Our online tools will change the way you see s...</td>\n",
       "      <td>Jai Asundi spoke to indianexpress.com on the c...</td>\n",
       "      <td>Jai Asundi is the executive director of Bengal...</td>\n",
       "      <td>https://indianexpress.com/article/technology/t...</td>\n",
       "      <td>technology</td>\n",
       "    </tr>\n",
       "    <tr>\n",
       "      <th>4</th>\n",
       "      <td>1870</td>\n",
       "      <td>Busting myths regarding CLAT preparation</td>\n",
       "      <td>CLAT is designed to be a test of aptitude and ...</td>\n",
       "      <td>— Supratim Chakrabarty\\nThe Common Law Admissi...</td>\n",
       "      <td>https://indianexpress.com/article/education/bu...</td>\n",
       "      <td>education</td>\n",
       "    </tr>\n",
       "  </tbody>\n",
       "</table>\n",
       "</div>"
      ],
      "text/plain": [
       "   index                                          headlines  \\\n",
       "0   1751  Australian Open semifinal: Unstoppable Novak D...   \n",
       "1    673  NTA changes JEE Main 2024 website; check new p...   \n",
       "2    193  Guntur Kaaram movie review: Mahesh Babu tries ...   \n",
       "3    732  Our online tools will change the way you see s...   \n",
       "4   1870           Busting myths regarding CLAT preparation   \n",
       "\n",
       "                                         description  \\\n",
       "0  The odds are stacked heavily against first-tim...   \n",
       "1  JEE Main 2024: The new website also has an aut...   \n",
       "2  Guntur Kaaram movie review: Mahesh Babu, in to...   \n",
       "3  Jai Asundi spoke to indianexpress.com on the c...   \n",
       "4  CLAT is designed to be a test of aptitude and ...   \n",
       "\n",
       "                                             content  \\\n",
       "0  Grand Slam fever grips tennis fans all over th...   \n",
       "1  JEE Main 2024: The National Testing Agency (NT...   \n",
       "2  Trivikram Srinivas’ Guntur Kaaram serves as de...   \n",
       "3  Jai Asundi is the executive director of Bengal...   \n",
       "4  — Supratim Chakrabarty\\nThe Common Law Admissi...   \n",
       "\n",
       "                                                 url       category  \n",
       "0  https://indianexpress.com/article/sports/tenni...         sports  \n",
       "1  https://indianexpress.com/article/education/nt...      education  \n",
       "2  https://indianexpress.com/article/entertainmen...  entertainment  \n",
       "3  https://indianexpress.com/article/technology/t...     technology  \n",
       "4  https://indianexpress.com/article/education/bu...      education  "
      ]
     },
     "execution_count": 26,
     "metadata": {},
     "output_type": "execute_result"
    }
   ],
   "source": [
    "df.head()"
   ]
  },
  {
   "cell_type": "code",
   "execution_count": 27,
   "metadata": {},
   "outputs": [
    {
     "data": {
      "text/plain": [
       "(10000, 6)"
      ]
     },
     "execution_count": 27,
     "metadata": {},
     "output_type": "execute_result"
    }
   ],
   "source": [
    "df.shape"
   ]
  },
  {
   "cell_type": "markdown",
   "metadata": {},
   "source": [
    "### Droping unnecessery columns"
   ]
  },
  {
   "cell_type": "code",
   "execution_count": 28,
   "metadata": {},
   "outputs": [],
   "source": [
    "df.drop(columns=['index', 'url'], inplace=True)"
   ]
  },
  {
   "cell_type": "code",
   "execution_count": 29,
   "metadata": {},
   "outputs": [
    {
     "data": {
      "text/html": [
       "<div>\n",
       "<style scoped>\n",
       "    .dataframe tbody tr th:only-of-type {\n",
       "        vertical-align: middle;\n",
       "    }\n",
       "\n",
       "    .dataframe tbody tr th {\n",
       "        vertical-align: top;\n",
       "    }\n",
       "\n",
       "    .dataframe thead th {\n",
       "        text-align: right;\n",
       "    }\n",
       "</style>\n",
       "<table border=\"1\" class=\"dataframe\">\n",
       "  <thead>\n",
       "    <tr style=\"text-align: right;\">\n",
       "      <th></th>\n",
       "      <th>headlines</th>\n",
       "      <th>description</th>\n",
       "      <th>content</th>\n",
       "      <th>category</th>\n",
       "    </tr>\n",
       "  </thead>\n",
       "  <tbody>\n",
       "    <tr>\n",
       "      <th>0</th>\n",
       "      <td>Australian Open semifinal: Unstoppable Novak D...</td>\n",
       "      <td>The odds are stacked heavily against first-tim...</td>\n",
       "      <td>Grand Slam fever grips tennis fans all over th...</td>\n",
       "      <td>sports</td>\n",
       "    </tr>\n",
       "    <tr>\n",
       "      <th>1</th>\n",
       "      <td>NTA changes JEE Main 2024 website; check new p...</td>\n",
       "      <td>JEE Main 2024: The new website also has an aut...</td>\n",
       "      <td>JEE Main 2024: The National Testing Agency (NT...</td>\n",
       "      <td>education</td>\n",
       "    </tr>\n",
       "    <tr>\n",
       "      <th>2</th>\n",
       "      <td>Guntur Kaaram movie review: Mahesh Babu tries ...</td>\n",
       "      <td>Guntur Kaaram movie review: Mahesh Babu, in to...</td>\n",
       "      <td>Trivikram Srinivas’ Guntur Kaaram serves as de...</td>\n",
       "      <td>entertainment</td>\n",
       "    </tr>\n",
       "    <tr>\n",
       "      <th>3</th>\n",
       "      <td>Our online tools will change the way you see s...</td>\n",
       "      <td>Jai Asundi spoke to indianexpress.com on the c...</td>\n",
       "      <td>Jai Asundi is the executive director of Bengal...</td>\n",
       "      <td>technology</td>\n",
       "    </tr>\n",
       "    <tr>\n",
       "      <th>4</th>\n",
       "      <td>Busting myths regarding CLAT preparation</td>\n",
       "      <td>CLAT is designed to be a test of aptitude and ...</td>\n",
       "      <td>— Supratim Chakrabarty\\nThe Common Law Admissi...</td>\n",
       "      <td>education</td>\n",
       "    </tr>\n",
       "    <tr>\n",
       "      <th>5</th>\n",
       "      <td>Akshay Kumar bats for long-lasting fitness, ac...</td>\n",
       "      <td>Akshay Kumar was one of the many personalities...</td>\n",
       "      <td>One must focus on leading a fitter life and no...</td>\n",
       "      <td>entertainment</td>\n",
       "    </tr>\n",
       "    <tr>\n",
       "      <th>6</th>\n",
       "      <td>Write-off era over, asset quality review serve...</td>\n",
       "      <td>Over the last five years, the gross non-perfor...</td>\n",
       "      <td>THE ERA OF loan write-offs is over, the asset ...</td>\n",
       "      <td>business</td>\n",
       "    </tr>\n",
       "    <tr>\n",
       "      <th>7</th>\n",
       "      <td>Life in an IIT: ‘How IIT Delhi shaped my caree...</td>\n",
       "      <td>For Kanpur boy Amar Srivastava, studying at II...</td>\n",
       "      <td>—Amar Srivastava\\nStudying at the Indian Insti...</td>\n",
       "      <td>education</td>\n",
       "    </tr>\n",
       "    <tr>\n",
       "      <th>8</th>\n",
       "      <td>Rupee rises 6 paise to 83.32 against US dollar...</td>\n",
       "      <td>Forex traders said the rupee fell to fresh rec...</td>\n",
       "      <td>The rupee recovered from its all-time low leve...</td>\n",
       "      <td>business</td>\n",
       "    </tr>\n",
       "    <tr>\n",
       "      <th>9</th>\n",
       "      <td>Will increase interest rates if cost of funds ...</td>\n",
       "      <td>As per a recent SBI research report, the banki...</td>\n",
       "      <td>State Bank of India (SBI) chairman Dinesh Khar...</td>\n",
       "      <td>business</td>\n",
       "    </tr>\n",
       "  </tbody>\n",
       "</table>\n",
       "</div>"
      ],
      "text/plain": [
       "                                           headlines  \\\n",
       "0  Australian Open semifinal: Unstoppable Novak D...   \n",
       "1  NTA changes JEE Main 2024 website; check new p...   \n",
       "2  Guntur Kaaram movie review: Mahesh Babu tries ...   \n",
       "3  Our online tools will change the way you see s...   \n",
       "4           Busting myths regarding CLAT preparation   \n",
       "5  Akshay Kumar bats for long-lasting fitness, ac...   \n",
       "6  Write-off era over, asset quality review serve...   \n",
       "7  Life in an IIT: ‘How IIT Delhi shaped my caree...   \n",
       "8  Rupee rises 6 paise to 83.32 against US dollar...   \n",
       "9  Will increase interest rates if cost of funds ...   \n",
       "\n",
       "                                         description  \\\n",
       "0  The odds are stacked heavily against first-tim...   \n",
       "1  JEE Main 2024: The new website also has an aut...   \n",
       "2  Guntur Kaaram movie review: Mahesh Babu, in to...   \n",
       "3  Jai Asundi spoke to indianexpress.com on the c...   \n",
       "4  CLAT is designed to be a test of aptitude and ...   \n",
       "5  Akshay Kumar was one of the many personalities...   \n",
       "6  Over the last five years, the gross non-perfor...   \n",
       "7  For Kanpur boy Amar Srivastava, studying at II...   \n",
       "8  Forex traders said the rupee fell to fresh rec...   \n",
       "9  As per a recent SBI research report, the banki...   \n",
       "\n",
       "                                             content       category  \n",
       "0  Grand Slam fever grips tennis fans all over th...         sports  \n",
       "1  JEE Main 2024: The National Testing Agency (NT...      education  \n",
       "2  Trivikram Srinivas’ Guntur Kaaram serves as de...  entertainment  \n",
       "3  Jai Asundi is the executive director of Bengal...     technology  \n",
       "4  — Supratim Chakrabarty\\nThe Common Law Admissi...      education  \n",
       "5  One must focus on leading a fitter life and no...  entertainment  \n",
       "6  THE ERA OF loan write-offs is over, the asset ...       business  \n",
       "7  —Amar Srivastava\\nStudying at the Indian Insti...      education  \n",
       "8  The rupee recovered from its all-time low leve...       business  \n",
       "9  State Bank of India (SBI) chairman Dinesh Khar...       business  "
      ]
     },
     "execution_count": 29,
     "metadata": {},
     "output_type": "execute_result"
    }
   ],
   "source": [
    "df.head(10)"
   ]
  },
  {
   "cell_type": "markdown",
   "metadata": {},
   "source": [
    "### Maping categoires to numbers and creating new column with category number"
   ]
  },
  {
   "cell_type": "code",
   "execution_count": 30,
   "metadata": {},
   "outputs": [],
   "source": [
    "def map_category(category):\n",
    "    category_map = {\n",
    "        'business': 0,\n",
    "        'education': 1,\n",
    "        'entertainment': 2,\n",
    "        'sports': 3,\n",
    "        'technology': 4\n",
    "    }\n",
    "    return category_map.get(category)"
   ]
  },
  {
   "cell_type": "code",
   "execution_count": 31,
   "metadata": {},
   "outputs": [
    {
     "data": {
      "text/plain": [
       "0"
      ]
     },
     "execution_count": 31,
     "metadata": {},
     "output_type": "execute_result"
    }
   ],
   "source": [
    "map_category('business')"
   ]
  },
  {
   "cell_type": "code",
   "execution_count": 32,
   "metadata": {},
   "outputs": [],
   "source": [
    "df['category_num'] = df['category'].apply(map_category)"
   ]
  },
  {
   "cell_type": "code",
   "execution_count": 33,
   "metadata": {},
   "outputs": [
    {
     "data": {
      "text/html": [
       "<div>\n",
       "<style scoped>\n",
       "    .dataframe tbody tr th:only-of-type {\n",
       "        vertical-align: middle;\n",
       "    }\n",
       "\n",
       "    .dataframe tbody tr th {\n",
       "        vertical-align: top;\n",
       "    }\n",
       "\n",
       "    .dataframe thead th {\n",
       "        text-align: right;\n",
       "    }\n",
       "</style>\n",
       "<table border=\"1\" class=\"dataframe\">\n",
       "  <thead>\n",
       "    <tr style=\"text-align: right;\">\n",
       "      <th></th>\n",
       "      <th>headlines</th>\n",
       "      <th>description</th>\n",
       "      <th>content</th>\n",
       "      <th>category</th>\n",
       "      <th>category_num</th>\n",
       "    </tr>\n",
       "  </thead>\n",
       "  <tbody>\n",
       "    <tr>\n",
       "      <th>0</th>\n",
       "      <td>Australian Open semifinal: Unstoppable Novak D...</td>\n",
       "      <td>The odds are stacked heavily against first-tim...</td>\n",
       "      <td>Grand Slam fever grips tennis fans all over th...</td>\n",
       "      <td>sports</td>\n",
       "      <td>3</td>\n",
       "    </tr>\n",
       "    <tr>\n",
       "      <th>1</th>\n",
       "      <td>NTA changes JEE Main 2024 website; check new p...</td>\n",
       "      <td>JEE Main 2024: The new website also has an aut...</td>\n",
       "      <td>JEE Main 2024: The National Testing Agency (NT...</td>\n",
       "      <td>education</td>\n",
       "      <td>1</td>\n",
       "    </tr>\n",
       "    <tr>\n",
       "      <th>2</th>\n",
       "      <td>Guntur Kaaram movie review: Mahesh Babu tries ...</td>\n",
       "      <td>Guntur Kaaram movie review: Mahesh Babu, in to...</td>\n",
       "      <td>Trivikram Srinivas’ Guntur Kaaram serves as de...</td>\n",
       "      <td>entertainment</td>\n",
       "      <td>2</td>\n",
       "    </tr>\n",
       "    <tr>\n",
       "      <th>3</th>\n",
       "      <td>Our online tools will change the way you see s...</td>\n",
       "      <td>Jai Asundi spoke to indianexpress.com on the c...</td>\n",
       "      <td>Jai Asundi is the executive director of Bengal...</td>\n",
       "      <td>technology</td>\n",
       "      <td>4</td>\n",
       "    </tr>\n",
       "    <tr>\n",
       "      <th>4</th>\n",
       "      <td>Busting myths regarding CLAT preparation</td>\n",
       "      <td>CLAT is designed to be a test of aptitude and ...</td>\n",
       "      <td>— Supratim Chakrabarty\\nThe Common Law Admissi...</td>\n",
       "      <td>education</td>\n",
       "      <td>1</td>\n",
       "    </tr>\n",
       "    <tr>\n",
       "      <th>5</th>\n",
       "      <td>Akshay Kumar bats for long-lasting fitness, ac...</td>\n",
       "      <td>Akshay Kumar was one of the many personalities...</td>\n",
       "      <td>One must focus on leading a fitter life and no...</td>\n",
       "      <td>entertainment</td>\n",
       "      <td>2</td>\n",
       "    </tr>\n",
       "    <tr>\n",
       "      <th>6</th>\n",
       "      <td>Write-off era over, asset quality review serve...</td>\n",
       "      <td>Over the last five years, the gross non-perfor...</td>\n",
       "      <td>THE ERA OF loan write-offs is over, the asset ...</td>\n",
       "      <td>business</td>\n",
       "      <td>0</td>\n",
       "    </tr>\n",
       "    <tr>\n",
       "      <th>7</th>\n",
       "      <td>Life in an IIT: ‘How IIT Delhi shaped my caree...</td>\n",
       "      <td>For Kanpur boy Amar Srivastava, studying at II...</td>\n",
       "      <td>—Amar Srivastava\\nStudying at the Indian Insti...</td>\n",
       "      <td>education</td>\n",
       "      <td>1</td>\n",
       "    </tr>\n",
       "    <tr>\n",
       "      <th>8</th>\n",
       "      <td>Rupee rises 6 paise to 83.32 against US dollar...</td>\n",
       "      <td>Forex traders said the rupee fell to fresh rec...</td>\n",
       "      <td>The rupee recovered from its all-time low leve...</td>\n",
       "      <td>business</td>\n",
       "      <td>0</td>\n",
       "    </tr>\n",
       "    <tr>\n",
       "      <th>9</th>\n",
       "      <td>Will increase interest rates if cost of funds ...</td>\n",
       "      <td>As per a recent SBI research report, the banki...</td>\n",
       "      <td>State Bank of India (SBI) chairman Dinesh Khar...</td>\n",
       "      <td>business</td>\n",
       "      <td>0</td>\n",
       "    </tr>\n",
       "  </tbody>\n",
       "</table>\n",
       "</div>"
      ],
      "text/plain": [
       "                                           headlines  \\\n",
       "0  Australian Open semifinal: Unstoppable Novak D...   \n",
       "1  NTA changes JEE Main 2024 website; check new p...   \n",
       "2  Guntur Kaaram movie review: Mahesh Babu tries ...   \n",
       "3  Our online tools will change the way you see s...   \n",
       "4           Busting myths regarding CLAT preparation   \n",
       "5  Akshay Kumar bats for long-lasting fitness, ac...   \n",
       "6  Write-off era over, asset quality review serve...   \n",
       "7  Life in an IIT: ‘How IIT Delhi shaped my caree...   \n",
       "8  Rupee rises 6 paise to 83.32 against US dollar...   \n",
       "9  Will increase interest rates if cost of funds ...   \n",
       "\n",
       "                                         description  \\\n",
       "0  The odds are stacked heavily against first-tim...   \n",
       "1  JEE Main 2024: The new website also has an aut...   \n",
       "2  Guntur Kaaram movie review: Mahesh Babu, in to...   \n",
       "3  Jai Asundi spoke to indianexpress.com on the c...   \n",
       "4  CLAT is designed to be a test of aptitude and ...   \n",
       "5  Akshay Kumar was one of the many personalities...   \n",
       "6  Over the last five years, the gross non-perfor...   \n",
       "7  For Kanpur boy Amar Srivastava, studying at II...   \n",
       "8  Forex traders said the rupee fell to fresh rec...   \n",
       "9  As per a recent SBI research report, the banki...   \n",
       "\n",
       "                                             content       category  \\\n",
       "0  Grand Slam fever grips tennis fans all over th...         sports   \n",
       "1  JEE Main 2024: The National Testing Agency (NT...      education   \n",
       "2  Trivikram Srinivas’ Guntur Kaaram serves as de...  entertainment   \n",
       "3  Jai Asundi is the executive director of Bengal...     technology   \n",
       "4  — Supratim Chakrabarty\\nThe Common Law Admissi...      education   \n",
       "5  One must focus on leading a fitter life and no...  entertainment   \n",
       "6  THE ERA OF loan write-offs is over, the asset ...       business   \n",
       "7  —Amar Srivastava\\nStudying at the Indian Insti...      education   \n",
       "8  The rupee recovered from its all-time low leve...       business   \n",
       "9  State Bank of India (SBI) chairman Dinesh Khar...       business   \n",
       "\n",
       "   category_num  \n",
       "0             3  \n",
       "1             1  \n",
       "2             2  \n",
       "3             4  \n",
       "4             1  \n",
       "5             2  \n",
       "6             0  \n",
       "7             1  \n",
       "8             0  \n",
       "9             0  "
      ]
     },
     "execution_count": 33,
     "metadata": {},
     "output_type": "execute_result"
    }
   ],
   "source": [
    "df.head(10)"
   ]
  },
  {
   "cell_type": "markdown",
   "metadata": {},
   "source": [
    "### Creating content for training from headline, description and content"
   ]
  },
  {
   "cell_type": "code",
   "execution_count": 34,
   "metadata": {},
   "outputs": [],
   "source": [
    "df['news_content'] = df['headlines'] + \" \" + df['description'] + \" \" + df['content']\n",
    "df.drop(columns=['headlines', 'description', 'content'], inplace=True)"
   ]
  },
  {
   "cell_type": "code",
   "execution_count": 37,
   "metadata": {},
   "outputs": [
    {
     "data": {
      "text/html": [
       "<div>\n",
       "<style scoped>\n",
       "    .dataframe tbody tr th:only-of-type {\n",
       "        vertical-align: middle;\n",
       "    }\n",
       "\n",
       "    .dataframe tbody tr th {\n",
       "        vertical-align: top;\n",
       "    }\n",
       "\n",
       "    .dataframe thead th {\n",
       "        text-align: right;\n",
       "    }\n",
       "</style>\n",
       "<table border=\"1\" class=\"dataframe\">\n",
       "  <thead>\n",
       "    <tr style=\"text-align: right;\">\n",
       "      <th></th>\n",
       "      <th>category</th>\n",
       "      <th>category_num</th>\n",
       "      <th>news_content</th>\n",
       "    </tr>\n",
       "  </thead>\n",
       "  <tbody>\n",
       "    <tr>\n",
       "      <th>0</th>\n",
       "      <td>sports</td>\n",
       "      <td>3</td>\n",
       "      <td>Australian Open semifinal: Unstoppable Novak D...</td>\n",
       "    </tr>\n",
       "    <tr>\n",
       "      <th>1</th>\n",
       "      <td>education</td>\n",
       "      <td>1</td>\n",
       "      <td>NTA changes JEE Main 2024 website; check new p...</td>\n",
       "    </tr>\n",
       "    <tr>\n",
       "      <th>2</th>\n",
       "      <td>entertainment</td>\n",
       "      <td>2</td>\n",
       "      <td>Guntur Kaaram movie review: Mahesh Babu tries ...</td>\n",
       "    </tr>\n",
       "    <tr>\n",
       "      <th>3</th>\n",
       "      <td>technology</td>\n",
       "      <td>4</td>\n",
       "      <td>Our online tools will change the way you see s...</td>\n",
       "    </tr>\n",
       "    <tr>\n",
       "      <th>4</th>\n",
       "      <td>education</td>\n",
       "      <td>1</td>\n",
       "      <td>Busting myths regarding CLAT preparation CLAT ...</td>\n",
       "    </tr>\n",
       "  </tbody>\n",
       "</table>\n",
       "</div>"
      ],
      "text/plain": [
       "        category  category_num  \\\n",
       "0         sports             3   \n",
       "1      education             1   \n",
       "2  entertainment             2   \n",
       "3     technology             4   \n",
       "4      education             1   \n",
       "\n",
       "                                        news_content  \n",
       "0  Australian Open semifinal: Unstoppable Novak D...  \n",
       "1  NTA changes JEE Main 2024 website; check new p...  \n",
       "2  Guntur Kaaram movie review: Mahesh Babu tries ...  \n",
       "3  Our online tools will change the way you see s...  \n",
       "4  Busting myths regarding CLAT preparation CLAT ...  "
      ]
     },
     "execution_count": 37,
     "metadata": {},
     "output_type": "execute_result"
    }
   ],
   "source": [
    "df.head()"
   ]
  },
  {
   "cell_type": "markdown",
   "metadata": {},
   "source": [
    "### Saving dataset in raw state (no cleaning and vectorization)"
   ]
  },
  {
   "cell_type": "code",
   "execution_count": 36,
   "metadata": {},
   "outputs": [],
   "source": [
    "df.to_csv(\"../data/raw_data.csv\")"
   ]
  }
 ],
 "metadata": {
  "kernelspec": {
   "display_name": "news-cls",
   "language": "python",
   "name": "python3"
  },
  "language_info": {
   "codemirror_mode": {
    "name": "ipython",
    "version": 3
   },
   "file_extension": ".py",
   "mimetype": "text/x-python",
   "name": "python",
   "nbconvert_exporter": "python",
   "pygments_lexer": "ipython3",
   "version": "3.11.9"
  }
 },
 "nbformat": 4,
 "nbformat_minor": 2
}
